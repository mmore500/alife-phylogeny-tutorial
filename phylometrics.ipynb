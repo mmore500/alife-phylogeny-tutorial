{
 "cells": [
  {
   "cell_type": "code",
   "execution_count": null,
   "metadata": {},
   "outputs": [],
   "source": [
    "!pip install \\\n",
    "    alifedata_phyloinformatics_convert==0.16.2 \\\n",
    "    colorclade \\\n",
    "    dendropy \\\n",
    "    hstrat==1.11.7 \\\n",
    "    \"pandas<2\" \\\n",
    "    \"pyarrow\" \\\n",
    "    phylotrackpy==0.2.0 \\\n",
    "    tqdm\n"
   ]
  },
  {
   "cell_type": "code",
   "execution_count": null,
   "metadata": {},
   "outputs": [],
   "source": [
    "import alifedata_phyloinformatics_convert as apc\n",
    "from colorclade import draw_colorclade_tree\n",
    "import dendropy as dp\n",
    "from hstrat import _auxiliary_lib as hstrat_aux\n",
    "from matplotlib import pyplot as plt\n",
    "import numpy as np\n",
    "import pandas as pd\n",
    "import seaborn as sns\n",
    "from tqdm import tqdm"
   ]
  },
  {
   "cell_type": "code",
   "execution_count": null,
   "metadata": {},
   "outputs": [],
   "source": [
    "df = pd.read_parquet(\"https://osf.io/r2a7t/download\")"
   ]
  },
  {
   "cell_type": "markdown",
   "metadata": {},
   "source": [
    "Subset to interesting data."
   ]
  },
  {
   "cell_type": "code",
   "execution_count": null,
   "metadata": {},
   "outputs": [],
   "source": [
    "df = df[\n",
    "    (df[\"nCycle\"] == df[\"nCycle\"].max())\n",
    "    & (df[\"popSize\"] == df[\"popSize\"].max())\n",
    "].reset_index(drop=True)"
   ]
  },
  {
   "cell_type": "markdown",
   "metadata": {},
   "source": [
    "- purifying only: only deleterious mutations allowed\n",
    "- purifying plus: both deleterious and beneficial allowed"
   ]
  },
  {
   "cell_type": "code",
   "execution_count": null,
   "metadata": {},
   "outputs": [],
   "source": [
    "df[\"genomeFlavor\"].unique()"
   ]
  },
  {
   "cell_type": "markdown",
   "metadata": {},
   "source": [
    "## Visualize"
   ]
  },
  {
   "cell_type": "code",
   "execution_count": null,
   "metadata": {},
   "outputs": [],
   "source": [
    "def sample_n_leaves(df: pd.DataFrame, n: int=10) -> pd.DataFrame:\n",
    "    df = df.copy()\n",
    "    df[\"extant\"] = df[\"id\"].isin(\n",
    "        hstrat_aux.alifestd_find_leaf_ids(df.sample(frac=1.0))[:n],\n",
    "    )\n",
    "    return hstrat_aux.alifestd_prune_extinct_lineages_asexual(df)\n"
   ]
  },
  {
   "cell_type": "code",
   "execution_count": null,
   "metadata": {},
   "outputs": [],
   "source": [
    "def log_scale_origin_time(df: pd.DataFrame) -> pd.DataFrame:\n",
    "    df = df.copy()\n",
    "    df = hstrat_aux.alifestd_mark_leaves(df)\n",
    "    diff = np.ptp(df.loc[df[\"is_leaf\"], \"origin_time\"])\n",
    "    df[\"origin_time\"] = np.log(df[\"origin_time\"].max() + diff) - np.log(df[\"origin_time\"].max() - df[\"origin_time\"] + diff)\n",
    "    return df\n"
   ]
  },
  {
   "cell_type": "code",
   "execution_count": null,
   "metadata": {},
   "outputs": [],
   "source": [
    "ncol = 4\n",
    "nrow = (df[\"replicate\"].nunique() - 1) // ncol + 1\n",
    "fig, axs = plt.subplots(nrow, ncol)\n",
    "\n",
    "for ax, ((flavor, replicate), group) in tqdm(list(zip(\n",
    "    axs.flat, df.groupby([\"genomeFlavor\", \"replicate\"])\n",
    "))):\n",
    "    draw_colorclade_tree(\n",
    "        log_scale_origin_time(sample_n_leaves(group, 20)),\n",
    "        taxon_name_key=\"id\",\n",
    "        backend=\"biopython\",\n",
    "        ax=ax,\n",
    "        label_tips=False,\n",
    "    )\n",
    "    newline = \"\\n\"\n",
    "    ax.set_title(f\"{flavor.replace('_', newline)}\")\n",
    "    ax.set_xlabel(\"\")\n",
    "    print(f\"{flavor=} {replicate=}\")\n",
    "\n",
    "plt.tight_layout()"
   ]
  },
  {
   "cell_type": "markdown",
   "metadata": {},
   "source": [
    "## Calculate Phylometrics"
   ]
  },
  {
   "cell_type": "code",
   "execution_count": null,
   "metadata": {},
   "outputs": [],
   "source": [
    "records = []\n",
    "for (flavor, replicate), group in tqdm(\n",
    "    df.groupby([\"genomeFlavor\", \"replicate\"]),\n",
    "):\n",
    "    syst = apc.RosettaTree(\n",
    "        group,\n",
    "    ).as_phylotrack\n",
    "\n",
    "    records.append(\n",
    "        {\n",
    "            \"genomeFlavor\": flavor,\n",
    "            \"replicate\": replicate,\n",
    "            \"colless-like index\": syst.colless_like_index(),\n",
    "            \"evo distinctness\": syst.get_mean_evolutionary_distinctiveness(\n",
    "                group[\"origin_time\"].max(),\n",
    "            ),\n",
    "            \"sum branch length\": syst.get_sum_distance(),\n",
    "        }\n",
    "    )\n"
   ]
  },
  {
   "cell_type": "code",
   "execution_count": null,
   "metadata": {},
   "outputs": [],
   "source": [
    "sns.catplot(\n",
    "    data=pd.melt(\n",
    "        pd.DataFrame.from_records(records),\n",
    "        id_vars=[\"genomeFlavor\", \"replicate\"],\n",
    "        value_vars=[\n",
    "            \"colless-like index\",\n",
    "            \"evo distinctness\",\n",
    "            \"sum branch length\",\n",
    "        ],\n",
    "        var_name=\"metric\",\n",
    "    ),\n",
    "    x=\"genomeFlavor\",\n",
    "    y=\"value\",\n",
    "    col=\"metric\",\n",
    "    hue=\"genomeFlavor\",\n",
    "    sharey=False,\n",
    "    col_wrap=2,\n",
    "    height=2,\n",
    "    aspect=2,\n",
    ")"
   ]
  }
 ],
 "metadata": {
  "kernelspec": {
   "display_name": "Python 3",
   "language": "python",
   "name": "python3"
  },
  "language_info": {
   "codemirror_mode": {
    "name": "ipython",
    "version": 3
   },
   "file_extension": ".py",
   "mimetype": "text/x-python",
   "name": "python",
   "nbconvert_exporter": "python",
   "pygments_lexer": "ipython3"
  }
 },
 "nbformat": 4,
 "nbformat_minor": 2
}
